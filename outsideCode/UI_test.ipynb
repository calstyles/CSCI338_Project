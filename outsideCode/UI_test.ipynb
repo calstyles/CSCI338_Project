{
 "cells": [
  {
   "cell_type": "code",
   "execution_count": 5,
   "id": "79f3827f",
   "metadata": {},
   "outputs": [
    {
     "ename": "AttributeError",
     "evalue": "'_IncompatibleKeys' object has no attribute 'eval'",
     "output_type": "error",
     "traceback": [
      "\u001B[0;31m---------------------------------------------------------------------------\u001B[0m",
      "\u001B[0;31mAttributeError\u001B[0m                            Traceback (most recent call last)",
      "\u001B[0;32m/var/folders/tx/p_26tyls7_lf2l9k5m1xv85w0000gn/T/ipykernel_50699/2478982479.py\u001B[0m in \u001B[0;36m<module>\u001B[0;34m\u001B[0m\n\u001B[1;32m     42\u001B[0m \u001B[0mvgg16\u001B[0m \u001B[0;34m=\u001B[0m \u001B[0mvgg16\u001B[0m\u001B[0;34m.\u001B[0m\u001B[0mload_state_dict\u001B[0m\u001B[0;34m(\u001B[0m\u001B[0mtorch\u001B[0m\u001B[0;34m.\u001B[0m\u001B[0mload\u001B[0m\u001B[0;34m(\u001B[0m\u001B[0;34m'/Users/matthew/PycharmProjects/CSCI338_Project/VGG16_graphs.pt'\u001B[0m\u001B[0;34m,\u001B[0m\u001B[0mmap_location\u001B[0m\u001B[0;34m=\u001B[0m\u001B[0;34m'cpu'\u001B[0m\u001B[0;34m)\u001B[0m\u001B[0;34m)\u001B[0m\u001B[0;34m\u001B[0m\u001B[0;34m\u001B[0m\u001B[0m\n\u001B[1;32m     43\u001B[0m \u001B[0;34m\u001B[0m\u001B[0m\n\u001B[0;32m---> 44\u001B[0;31m \u001B[0mvgg16\u001B[0m\u001B[0;34m.\u001B[0m\u001B[0meval\u001B[0m\u001B[0;34m(\u001B[0m\u001B[0;34m)\u001B[0m\u001B[0;34m\u001B[0m\u001B[0;34m\u001B[0m\u001B[0m\n\u001B[0m\u001B[1;32m     45\u001B[0m \u001B[0;34m\u001B[0m\u001B[0m\n\u001B[1;32m     46\u001B[0m \u001B[0;31m#freeze parameters so we don't overtrain it\u001B[0m\u001B[0;34m\u001B[0m\u001B[0;34m\u001B[0m\u001B[0;34m\u001B[0m\u001B[0m\n",
      "\u001B[0;31mAttributeError\u001B[0m: '_IncompatibleKeys' object has no attribute 'eval'"
     ]
    }
   ],
   "source": [
    "import gradio as gr\n",
    "import torch\n",
    "import torch.nn as nn\n",
    "from torchvision import datasets, models, transforms\n",
    "from torch.autograd import Variable\n",
    "from PIL import Image\n",
    "import json\n",
    "import torch.optim as optim\n",
    "from torch.optim import lr_scheduler\n",
    "\n",
    "\n",
    "\n",
    "def image_loader(image_name):\n",
    "    image = loader(image_name).float()\n",
    "    image = Variable(image, requires_grad=True)\n",
    "    image = image.unsqueeze(0)  #this is for VGG, may not be needed for ResNet\n",
    "    return image  #assumes that you're using GPU\n",
    "\n",
    "\n",
    "\n",
    "\n",
    "#load model\n",
    "vgg16 = models.vgg16_bn()\n",
    "\n",
    "\n",
    "\n",
    "    # Inable our saved parameters\n",
    "for param in vgg16.features.parameters():\n",
    "    param.require_grad = False\n",
    "    \n",
    "    # Newly created modules have require_grad=True by default\n",
    "num_features = vgg16.classifier[6].in_features\n",
    "features = list(vgg16.classifier.children())[:-1]  # Remove last layer\n",
    "features.extend([nn.Linear(num_features, 3)])  # Add our layer with 3 outputs\n",
    "vgg16.classifier = nn.Sequential(*features)\n",
    "\n",
    "criterion = nn.CrossEntropyLoss()\n",
    "\n",
    "optimizer_ft = optim.SGD(vgg16.parameters(), lr=0.001, momentum=0.9)\n",
    "exp_lr_scheduler = lr_scheduler.StepLR(optimizer_ft, step_size=7, gamma=0.1)\n",
    "#load our saved model\n",
    "vgg16 = vgg16.load_state_dict(torch.load('/Users/matthew/PycharmProjects/CSCI338_Project/VGG16_graphs.pt',map_location='cpu'))\n",
    "\n",
    "vgg16.eval()\n",
    "\n",
    "#freeze parameters so we don't overtrain it\n",
    "\n",
    "\n",
    "loader = transforms.Compose([\n",
    "    transforms.Resize(256),\n",
    "    transforms.CenterCrop(224),\n",
    "    transforms.ToTensor(),\n",
    "])\n",
    "\n",
    "f = open(\"/Users/matthew/PycharmProjects/CSCI338_Project/outsideCode/classes.txt\",\"r\")\n",
    "labeled_classes = json.loads(f.read())\n",
    "labels = [i.split(',')[0] for i in list(labeled_classes.values())]\n",
    "\n",
    "gr.Interface(fn=predict,\n",
    "             inputs=gr.inputs.Image(type=\"pil\"),\n",
    "             outputs=gr.outputs.Label(num_top_classes=3)).launch()"
   ]
  },
  {
   "cell_type": "code",
   "execution_count": null,
   "id": "05ebf439",
   "metadata": {},
   "outputs": [],
   "source": []
  },
  {
   "cell_type": "code",
   "execution_count": null,
   "id": "6a237776",
   "metadata": {},
   "outputs": [],
   "source": []
  }
 ],
 "metadata": {
  "kernelspec": {
   "display_name": "Python 3 (ipykernel)",
   "language": "python",
   "name": "python3"
  },
  "language_info": {
   "codemirror_mode": {
    "name": "ipython",
    "version": 3
   },
   "file_extension": ".py",
   "mimetype": "text/x-python",
   "name": "python",
   "nbconvert_exporter": "python",
   "pygments_lexer": "ipython3",
   "version": "3.9.7"
  }
 },
 "nbformat": 4,
 "nbformat_minor": 5
}